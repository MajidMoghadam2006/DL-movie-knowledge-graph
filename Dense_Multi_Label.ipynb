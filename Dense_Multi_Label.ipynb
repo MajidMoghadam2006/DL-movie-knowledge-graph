{
 "cells": [
  {
   "cell_type": "code",
   "execution_count": 1,
   "metadata": {},
   "outputs": [],
   "source": [
    "import os\n",
    "import sys\n",
    "import numpy as np\n",
    "import pandas as pd\n",
    "\n",
    "from tensorflow import keras\n",
    "from tensorflow.keras.preprocessing.text import Tokenizer\n",
    "from tensorflow.keras.utils import to_categorical\n",
    "from tensorflow.keras.preprocessing.sequence import pad_sequences\n",
    "from tensorflow.keras.layers import Activation, Conv2D, Input, Embedding, Reshape, MaxPool2D, Concatenate, Flatten, Dropout, Dense, Conv1D\n",
    "from tensorflow.keras.layers import MaxPool1D\n",
    "from tensorflow.keras.models import Model\n",
    "from tensorflow.keras.callbacks import ModelCheckpoint\n",
    "from tensorflow.keras.optimizers import Adam\n",
    "from sklearn.model_selection import train_test_split\n",
    "from tensorflow.keras.models import Sequential\n",
    "import tensorflow.keras.backend as K"
   ]
  },
  {
   "cell_type": "code",
   "execution_count": 9,
   "metadata": {},
   "outputs": [],
   "source": [
    "# ID    UTTERANCE    CORE RELATIONS\n",
    "trainFile = pd.read_csv('dataset/hw1_train.csv')\n",
    "# ID    UTTERANCE\n",
    "testFile = pd.read_csv('dataset/hw1_test.csv')"
   ]
  },
  {
   "cell_type": "code",
   "execution_count": 10,
   "metadata": {},
   "outputs": [],
   "source": [
    "# Data preparation\n",
    "\n",
    "# input features\n",
    "X = list(trainFile['UTTERANCE'])\n",
    "\n",
    "unique_relations = []\n",
    "for relation_str in trainFile['CORE RELATIONS']:\n",
    "    relations = relation_str.split(' ')\n",
    "    for relation in relations:\n",
    "        if relation not in unique_relations:\n",
    "            unique_relations.append(relation)\n",
    "\n",
    "unique_nodes = []\n",
    "for path in unique_relations:\n",
    "    nodes = path.split('.')\n",
    "    for node in nodes:\n",
    "        if node not in unique_nodes:\n",
    "            unique_nodes.append(node)\n",
    "\n",
    "# add label columns to dataframe\n",
    "for relation in unique_relations:\n",
    "    trainFile[relation] = 0\n",
    "\n",
    "# fill out label columns\n",
    "for idx, relation_str in enumerate(trainFile['CORE RELATIONS']):\n",
    "    relations = relation_str.split(' ')\n",
    "    for relation in relations:\n",
    "        trainFile.loc[idx,relation] = 1\n",
    "\n",
    "#separate label columns\n",
    "labels = trainFile[unique_relations]\n",
    "\n",
    "# target values\n",
    "y = labels.values"
   ]
  },
  {
   "cell_type": "code",
   "execution_count": 11,
   "metadata": {},
   "outputs": [],
   "source": [
    "X_train, X_test, y_train, y_test = train_test_split(X, y, test_size=0.20)\n",
    "\n",
    "# 5000 words because the training set has almost 2500 unique words\n",
    "tokenizer = Tokenizer(num_words=5000)\n",
    "tokenizer.fit_on_texts(X_train)\n",
    "\n",
    "X_train = tokenizer.texts_to_matrix(X_train)\n",
    "X_test = tokenizer.texts_to_matrix(X_test)"
   ]
  },
  {
   "cell_type": "code",
   "execution_count": 12,
   "metadata": {},
   "outputs": [
    {
     "data": {
      "text/plain": [
       "(2670, 5000)"
      ]
     },
     "execution_count": 12,
     "metadata": {},
     "output_type": "execute_result"
    }
   ],
   "source": [
    "X_train.shape"
   ]
  },
  {
   "cell_type": "code",
   "execution_count": 13,
   "metadata": {},
   "outputs": [],
   "source": [
    "def recall_m(y_true, y_pred):\n",
    "        true_positives = K.sum(K.round(K.clip(y_true * y_pred, 0, 1)))\n",
    "        possible_positives = K.sum(K.round(K.clip(y_true, 0, 1)))\n",
    "        recall = true_positives / (possible_positives + K.epsilon())\n",
    "        return recall\n",
    "\n",
    "def precision_m(y_true, y_pred):\n",
    "        true_positives = K.sum(K.round(K.clip(y_true * y_pred, 0, 1)))\n",
    "        predicted_positives = K.sum(K.round(K.clip(y_pred, 0, 1)))\n",
    "        precision = true_positives / (predicted_positives + K.epsilon())\n",
    "        return precision\n",
    "\n",
    "def f1_score(y_true, y_pred):\n",
    "    precision = precision_m(y_true, y_pred)\n",
    "    recall = recall_m(y_true, y_pred)\n",
    "    return 2*((precision*recall)/(precision+recall+K.epsilon()))"
   ]
  },
  {
   "cell_type": "code",
   "execution_count": 14,
   "metadata": {},
   "outputs": [
    {
     "name": "stdout",
     "output_type": "stream",
     "text": [
      "Model: \"sequential\"\n",
      "_________________________________________________________________\n",
      "Layer (type)                 Output Shape              Param #   \n",
      "=================================================================\n",
      "dense (Dense)                (None, 512)               2560512   \n",
      "_________________________________________________________________\n",
      "dropout (Dropout)            (None, 512)               0         \n",
      "_________________________________________________________________\n",
      "dense_1 (Dense)              (None, 512)               262656    \n",
      "_________________________________________________________________\n",
      "dropout_1 (Dropout)          (None, 512)               0         \n",
      "_________________________________________________________________\n",
      "dense_2 (Dense)              (None, 46)                23598     \n",
      "=================================================================\n",
      "Total params: 2,846,766\n",
      "Trainable params: 2,846,766\n",
      "Non-trainable params: 0\n",
      "_________________________________________________________________\n"
     ]
    }
   ],
   "source": [
    "model = Sequential()\n",
    "model.add(Dense(512, input_shape=(5000,), activation='relu'))\n",
    "model.add(Dropout(0.3))\n",
    "model.add(Dense(512, activation='relu'))\n",
    "model.add(Dropout(0.3))\n",
    "model.add(Dense(46, activation='sigmoid'))\n",
    "model.compile(loss='binary_crossentropy',              # categorical_crossentropy, binary_crossentropy f1_loss\n",
    "              optimizer='adam',\n",
    "              metrics=['accuracy', f1_score])\n",
    "model.summary()"
   ]
  },
  {
   "cell_type": "code",
   "execution_count": 15,
   "metadata": {},
   "outputs": [
    {
     "name": "stdout",
     "output_type": "stream",
     "text": [
      "Train on 2403 samples, validate on 267 samples\n",
      "Epoch 1/100\n",
      "2403/2403 [==============================] - 1s 597us/sample - loss: 0.1944 - accuracy: 0.9617 - f1_score: 0.0051 - val_loss: 0.0908 - val_accuracy: 0.9760 - val_f1_score: 0.0000e+00\n",
      "Epoch 2/100\n",
      "2403/2403 [==============================] - 0s 99us/sample - loss: 0.0785 - accuracy: 0.9768 - f1_score: 0.1112 - val_loss: 0.0606 - val_accuracy: 0.9814 - val_f1_score: 0.3605\n",
      "Epoch 3/100\n",
      "2403/2403 [==============================] - 0s 100us/sample - loss: 0.0487 - accuracy: 0.9848 - f1_score: 0.5636 - val_loss: 0.0413 - val_accuracy: 0.9886 - val_f1_score: 0.7082\n",
      "Epoch 4/100\n",
      "2403/2403 [==============================] - 0s 97us/sample - loss: 0.0319 - accuracy: 0.9902 - f1_score: 0.7596 - val_loss: 0.0361 - val_accuracy: 0.9902 - val_f1_score: 0.7673\n",
      "Epoch 5/100\n",
      "2403/2403 [==============================] - 0s 97us/sample - loss: 0.0220 - accuracy: 0.9932 - f1_score: 0.8491 - val_loss: 0.0312 - val_accuracy: 0.9910 - val_f1_score: 0.7878\n",
      "Epoch 6/100\n",
      "2403/2403 [==============================] - 0s 96us/sample - loss: 0.0160 - accuracy: 0.9952 - f1_score: 0.8944 - val_loss: 0.0305 - val_accuracy: 0.9910 - val_f1_score: 0.7986\n",
      "Epoch 7/100\n",
      "2403/2403 [==============================] - 0s 99us/sample - loss: 0.0121 - accuracy: 0.9964 - f1_score: 0.9251 - val_loss: 0.0297 - val_accuracy: 0.9915 - val_f1_score: 0.8175\n",
      "Epoch 8/100\n",
      "2403/2403 [==============================] - 0s 94us/sample - loss: 0.0094 - accuracy: 0.9972 - f1_score: 0.9414 - val_loss: 0.0308 - val_accuracy: 0.9923 - val_f1_score: 0.8335\n",
      "Epoch 9/100\n",
      "2403/2403 [==============================] - 0s 97us/sample - loss: 0.0076 - accuracy: 0.9977 - f1_score: 0.9528 - val_loss: 0.0308 - val_accuracy: 0.9919 - val_f1_score: 0.8280\n",
      "Epoch 10/100\n",
      "2403/2403 [==============================] - 0s 98us/sample - loss: 0.0061 - accuracy: 0.9984 - f1_score: 0.9674 - val_loss: 0.0322 - val_accuracy: 0.9926 - val_f1_score: 0.8451\n",
      "Epoch 11/100\n",
      "2403/2403 [==============================] - 0s 98us/sample - loss: 0.0051 - accuracy: 0.9985 - f1_score: 0.9701 - val_loss: 0.0329 - val_accuracy: 0.9925 - val_f1_score: 0.8434\n",
      "Epoch 12/100\n",
      "2403/2403 [==============================] - 0s 98us/sample - loss: 0.0043 - accuracy: 0.9988 - f1_score: 0.9749 - val_loss: 0.0334 - val_accuracy: 0.9922 - val_f1_score: 0.8309\n",
      "Epoch 13/100\n",
      "2403/2403 [==============================] - 0s 97us/sample - loss: 0.0036 - accuracy: 0.9990 - f1_score: 0.9799 - val_loss: 0.0333 - val_accuracy: 0.9923 - val_f1_score: 0.8420\n",
      "Epoch 14/100\n",
      "2403/2403 [==============================] - 0s 98us/sample - loss: 0.0031 - accuracy: 0.9991 - f1_score: 0.9814 - val_loss: 0.0341 - val_accuracy: 0.9927 - val_f1_score: 0.8488\n",
      "Epoch 15/100\n",
      "2403/2403 [==============================] - 0s 96us/sample - loss: 0.0028 - accuracy: 0.9991 - f1_score: 0.9803 - val_loss: 0.0356 - val_accuracy: 0.9927 - val_f1_score: 0.8505\n",
      "Epoch 16/100\n",
      "2403/2403 [==============================] - 0s 100us/sample - loss: 0.0023 - accuracy: 0.9993 - f1_score: 0.9868 - val_loss: 0.0350 - val_accuracy: 0.9927 - val_f1_score: 0.8488\n",
      "Epoch 17/100\n",
      "2403/2403 [==============================] - 0s 100us/sample - loss: 0.0021 - accuracy: 0.9995 - f1_score: 0.9897 - val_loss: 0.0371 - val_accuracy: 0.9928 - val_f1_score: 0.8510\n",
      "Epoch 18/100\n",
      "2403/2403 [==============================] - 0s 104us/sample - loss: 0.0019 - accuracy: 0.9994 - f1_score: 0.9882 - val_loss: 0.0378 - val_accuracy: 0.9932 - val_f1_score: 0.8558\n",
      "Epoch 19/100\n",
      "2403/2403 [==============================] - 0s 97us/sample - loss: 0.0017 - accuracy: 0.9996 - f1_score: 0.9911 - val_loss: 0.0382 - val_accuracy: 0.9925 - val_f1_score: 0.8434\n",
      "Epoch 20/100\n",
      "2403/2403 [==============================] - 0s 98us/sample - loss: 0.0016 - accuracy: 0.9996 - f1_score: 0.9921 - val_loss: 0.0369 - val_accuracy: 0.9931 - val_f1_score: 0.8542\n",
      "Epoch 21/100\n",
      "2403/2403 [==============================] - 0s 98us/sample - loss: 0.0013 - accuracy: 0.9997 - f1_score: 0.9934 - val_loss: 0.0391 - val_accuracy: 0.9929 - val_f1_score: 0.8555\n",
      "Epoch 22/100\n",
      "2403/2403 [==============================] - 0s 98us/sample - loss: 0.0012 - accuracy: 0.9997 - f1_score: 0.9931 - val_loss: 0.0406 - val_accuracy: 0.9930 - val_f1_score: 0.8576\n",
      "Epoch 23/100\n",
      "2403/2403 [==============================] - 0s 97us/sample - loss: 0.0012 - accuracy: 0.9997 - f1_score: 0.9940 - val_loss: 0.0407 - val_accuracy: 0.9928 - val_f1_score: 0.8523\n",
      "Epoch 24/100\n",
      "2403/2403 [==============================] - 0s 98us/sample - loss: 9.9500e-04 - accuracy: 0.9997 - f1_score: 0.9948 - val_loss: 0.0415 - val_accuracy: 0.9931 - val_f1_score: 0.8589\n",
      "Epoch 25/100\n",
      "2403/2403 [==============================] - 0s 97us/sample - loss: 9.3159e-04 - accuracy: 0.9998 - f1_score: 0.9962 - val_loss: 0.0427 - val_accuracy: 0.9932 - val_f1_score: 0.8612\n",
      "Epoch 26/100\n",
      "2403/2403 [==============================] - 0s 96us/sample - loss: 8.0894e-04 - accuracy: 0.9999 - f1_score: 0.9972 - val_loss: 0.0415 - val_accuracy: 0.9933 - val_f1_score: 0.8626\n",
      "Epoch 27/100\n",
      "2403/2403 [==============================] - 0s 94us/sample - loss: 7.5064e-04 - accuracy: 0.9999 - f1_score: 0.9973 - val_loss: 0.0436 - val_accuracy: 0.9928 - val_f1_score: 0.8541\n",
      "Epoch 28/100\n",
      "2403/2403 [==============================] - 0s 93us/sample - loss: 8.3034e-04 - accuracy: 0.9998 - f1_score: 0.9953 - val_loss: 0.0417 - val_accuracy: 0.9933 - val_f1_score: 0.8657\n",
      "Epoch 29/100\n",
      "2403/2403 [==============================] - 0s 96us/sample - loss: 6.9511e-04 - accuracy: 0.9998 - f1_score: 0.9963 - val_loss: 0.0440 - val_accuracy: 0.9932 - val_f1_score: 0.8607\n",
      "Epoch 30/100\n",
      "2403/2403 [==============================] - 0s 95us/sample - loss: 6.7955e-04 - accuracy: 0.9998 - f1_score: 0.9964 - val_loss: 0.0438 - val_accuracy: 0.9931 - val_f1_score: 0.8589\n",
      "Epoch 31/100\n",
      "2403/2403 [==============================] - 0s 99us/sample - loss: 8.4202e-04 - accuracy: 0.9998 - f1_score: 0.9953 - val_loss: 0.0441 - val_accuracy: 0.9928 - val_f1_score: 0.8488\n",
      "Epoch 32/100\n",
      "2403/2403 [==============================] - 0s 96us/sample - loss: 6.6931e-04 - accuracy: 0.9998 - f1_score: 0.9966 - val_loss: 0.0459 - val_accuracy: 0.9928 - val_f1_score: 0.8475\n",
      "Epoch 33/100\n",
      "2403/2403 [==============================] - 0s 96us/sample - loss: 8.4413e-04 - accuracy: 0.9997 - f1_score: 0.9945 - val_loss: 0.0440 - val_accuracy: 0.9932 - val_f1_score: 0.8616\n",
      "Epoch 34/100\n",
      "2403/2403 [==============================] - 0s 96us/sample - loss: 5.9478e-04 - accuracy: 0.9999 - f1_score: 0.9978 - val_loss: 0.0462 - val_accuracy: 0.9922 - val_f1_score: 0.8379\n",
      "Epoch 35/100\n",
      "2403/2403 [==============================] - 0s 96us/sample - loss: 5.3027e-04 - accuracy: 0.9998 - f1_score: 0.9965 - val_loss: 0.0467 - val_accuracy: 0.9922 - val_f1_score: 0.8367\n",
      "Epoch 36/100\n",
      "2403/2403 [==============================] - 0s 94us/sample - loss: 5.3009e-04 - accuracy: 0.9999 - f1_score: 0.9973 - val_loss: 0.0475 - val_accuracy: 0.9924 - val_f1_score: 0.8442\n",
      "Epoch 37/100\n",
      "2403/2403 [==============================] - 0s 97us/sample - loss: 6.6037e-04 - accuracy: 0.9998 - f1_score: 0.9965 - val_loss: 0.0458 - val_accuracy: 0.9926 - val_f1_score: 0.8532\n",
      "Epoch 38/100\n",
      "2403/2403 [==============================] - 0s 97us/sample - loss: 6.6767e-04 - accuracy: 0.9998 - f1_score: 0.9960 - val_loss: 0.0451 - val_accuracy: 0.9933 - val_f1_score: 0.8651\n",
      "Epoch 39/100\n",
      "2403/2403 [==============================] - 0s 97us/sample - loss: 4.1222e-04 - accuracy: 0.9999 - f1_score: 0.9980 - val_loss: 0.0464 - val_accuracy: 0.9929 - val_f1_score: 0.8553\n",
      "Epoch 40/100\n",
      "2403/2403 [==============================] - 0s 94us/sample - loss: 4.0304e-04 - accuracy: 0.9999 - f1_score: 0.9983 - val_loss: 0.0479 - val_accuracy: 0.9928 - val_f1_score: 0.8519\n",
      "Epoch 41/100\n",
      "2403/2403 [==============================] - 0s 96us/sample - loss: 3.2589e-04 - accuracy: 0.9999 - f1_score: 0.9989 - val_loss: 0.0458 - val_accuracy: 0.9928 - val_f1_score: 0.8484\n",
      "Epoch 42/100\n",
      "2403/2403 [==============================] - 0s 96us/sample - loss: 5.5001e-04 - accuracy: 0.9998 - f1_score: 0.9963 - val_loss: 0.0479 - val_accuracy: 0.9930 - val_f1_score: 0.8582\n",
      "Epoch 43/100\n",
      "2403/2403 [==============================] - 0s 97us/sample - loss: 3.2626e-04 - accuracy: 0.9999 - f1_score: 0.9987 - val_loss: 0.0466 - val_accuracy: 0.9928 - val_f1_score: 0.8492\n",
      "Epoch 44/100\n",
      "2403/2403 [==============================] - 0s 97us/sample - loss: 3.9289e-04 - accuracy: 0.9999 - f1_score: 0.9982 - val_loss: 0.0490 - val_accuracy: 0.9928 - val_f1_score: 0.8543\n",
      "Epoch 45/100\n",
      "2403/2403 [==============================] - 0s 97us/sample - loss: 4.1126e-04 - accuracy: 0.9999 - f1_score: 0.9982 - val_loss: 0.0492 - val_accuracy: 0.9932 - val_f1_score: 0.8561\n",
      "Epoch 46/100\n",
      "2403/2403 [==============================] - 0s 101us/sample - loss: 2.6265e-04 - accuracy: 0.9999 - f1_score: 0.9989 - val_loss: 0.0492 - val_accuracy: 0.9925 - val_f1_score: 0.8442\n",
      "Epoch 47/100\n",
      "2403/2403 [==============================] - 0s 96us/sample - loss: 3.2802e-04 - accuracy: 0.9999 - f1_score: 0.9980 - val_loss: 0.0512 - val_accuracy: 0.9928 - val_f1_score: 0.8490\n",
      "Epoch 48/100\n",
      "2403/2403 [==============================] - 0s 96us/sample - loss: 1.8742e-04 - accuracy: 1.0000 - f1_score: 0.9993 - val_loss: 0.0504 - val_accuracy: 0.9927 - val_f1_score: 0.8467\n",
      "Epoch 49/100\n",
      "2403/2403 [==============================] - 0s 96us/sample - loss: 2.7572e-04 - accuracy: 1.0000 - f1_score: 0.9993 - val_loss: 0.0511 - val_accuracy: 0.9928 - val_f1_score: 0.8509\n",
      "Epoch 50/100\n",
      "2403/2403 [==============================] - 0s 95us/sample - loss: 3.2447e-04 - accuracy: 0.9999 - f1_score: 0.9978 - val_loss: 0.0509 - val_accuracy: 0.9927 - val_f1_score: 0.8460\n",
      "Epoch 51/100\n",
      "2403/2403 [==============================] - 0s 100us/sample - loss: 2.5924e-04 - accuracy: 0.9999 - f1_score: 0.9988 - val_loss: 0.0493 - val_accuracy: 0.9928 - val_f1_score: 0.8489\n",
      "Epoch 52/100\n",
      "2403/2403 [==============================] - 0s 100us/sample - loss: 3.5395e-04 - accuracy: 0.9999 - f1_score: 0.9973 - val_loss: 0.0530 - val_accuracy: 0.9933 - val_f1_score: 0.8607\n",
      "Epoch 53/100\n",
      "2403/2403 [==============================] - 0s 95us/sample - loss: 3.5085e-04 - accuracy: 0.9999 - f1_score: 0.9981 - val_loss: 0.0500 - val_accuracy: 0.9928 - val_f1_score: 0.8522\n",
      "Epoch 54/100\n",
      "2403/2403 [==============================] - 0s 96us/sample - loss: 3.4262e-04 - accuracy: 0.9999 - f1_score: 0.9982 - val_loss: 0.0502 - val_accuracy: 0.9932 - val_f1_score: 0.8562\n",
      "Epoch 55/100\n",
      "2403/2403 [==============================] - 0s 95us/sample - loss: 2.7268e-04 - accuracy: 0.9999 - f1_score: 0.9987 - val_loss: 0.0555 - val_accuracy: 0.9927 - val_f1_score: 0.8520\n",
      "Epoch 56/100\n",
      "2403/2403 [==============================] - 0s 96us/sample - loss: 2.4742e-04 - accuracy: 1.0000 - f1_score: 0.9991 - val_loss: 0.0527 - val_accuracy: 0.9925 - val_f1_score: 0.8430\n",
      "Epoch 57/100\n",
      "2403/2403 [==============================] - 0s 98us/sample - loss: 2.1944e-04 - accuracy: 0.9999 - f1_score: 0.9989 - val_loss: 0.0569 - val_accuracy: 0.9925 - val_f1_score: 0.8409\n",
      "Epoch 58/100\n",
      "2403/2403 [==============================] - 0s 98us/sample - loss: 2.8478e-04 - accuracy: 0.9999 - f1_score: 0.9984 - val_loss: 0.0516 - val_accuracy: 0.9927 - val_f1_score: 0.8513\n",
      "Epoch 59/100\n",
      "2403/2403 [==============================] - 0s 96us/sample - loss: 1.6660e-04 - accuracy: 1.0000 - f1_score: 0.9991 - val_loss: 0.0525 - val_accuracy: 0.9932 - val_f1_score: 0.8566\n",
      "Epoch 60/100\n",
      "2403/2403 [==============================] - 0s 96us/sample - loss: 2.3197e-04 - accuracy: 0.9999 - f1_score: 0.9987 - val_loss: 0.0541 - val_accuracy: 0.9932 - val_f1_score: 0.8582\n",
      "Epoch 61/100\n",
      "2403/2403 [==============================] - 0s 98us/sample - loss: 2.4662e-04 - accuracy: 0.9999 - f1_score: 0.9962 - val_loss: 0.0562 - val_accuracy: 0.9932 - val_f1_score: 0.8576\n",
      "Epoch 62/100\n",
      "2403/2403 [==============================] - 0s 95us/sample - loss: 5.4418e-04 - accuracy: 0.9999 - f1_score: 0.9975 - val_loss: 0.0508 - val_accuracy: 0.9929 - val_f1_score: 0.8518\n",
      "Epoch 63/100\n",
      "2403/2403 [==============================] - 0s 97us/sample - loss: 3.3932e-04 - accuracy: 0.9999 - f1_score: 0.9980 - val_loss: 0.0499 - val_accuracy: 0.9928 - val_f1_score: 0.8499\n",
      "Epoch 64/100\n",
      "2403/2403 [==============================] - 0s 99us/sample - loss: 5.0990e-04 - accuracy: 0.9998 - f1_score: 0.9968 - val_loss: 0.0532 - val_accuracy: 0.9927 - val_f1_score: 0.8491\n",
      "Epoch 65/100\n",
      "2403/2403 [==============================] - 0s 96us/sample - loss: 3.8475e-04 - accuracy: 0.9999 - f1_score: 0.9981 - val_loss: 0.0509 - val_accuracy: 0.9928 - val_f1_score: 0.8540\n",
      "Epoch 66/100\n",
      "2403/2403 [==============================] - 0s 98us/sample - loss: 4.1972e-04 - accuracy: 0.9999 - f1_score: 0.9984 - val_loss: 0.0556 - val_accuracy: 0.9923 - val_f1_score: 0.8402\n",
      "Epoch 67/100\n",
      "2403/2403 [==============================] - 0s 98us/sample - loss: 1.5890e-04 - accuracy: 1.0000 - f1_score: 0.9991 - val_loss: 0.0557 - val_accuracy: 0.9924 - val_f1_score: 0.8444\n",
      "Epoch 68/100\n",
      "2403/2403 [==============================] - 0s 96us/sample - loss: 2.4655e-04 - accuracy: 0.9999 - f1_score: 0.9987 - val_loss: 0.0569 - val_accuracy: 0.9925 - val_f1_score: 0.8465\n",
      "Epoch 69/100\n",
      "2403/2403 [==============================] - 0s 97us/sample - loss: 1.9287e-04 - accuracy: 0.9999 - f1_score: 0.9989 - val_loss: 0.0568 - val_accuracy: 0.9928 - val_f1_score: 0.8554\n",
      "Epoch 70/100\n",
      "2403/2403 [==============================] - 0s 95us/sample - loss: 4.8429e-04 - accuracy: 0.9999 - f1_score: 0.9978 - val_loss: 0.0544 - val_accuracy: 0.9923 - val_f1_score: 0.8450\n",
      "Epoch 71/100\n",
      "2403/2403 [==============================] - 0s 97us/sample - loss: 4.5835e-04 - accuracy: 0.9999 - f1_score: 0.9971 - val_loss: 0.0550 - val_accuracy: 0.9922 - val_f1_score: 0.8441\n",
      "Epoch 72/100\n",
      "2403/2403 [==============================] - 0s 99us/sample - loss: 2.6070e-04 - accuracy: 0.9999 - f1_score: 0.9982 - val_loss: 0.0547 - val_accuracy: 0.9932 - val_f1_score: 0.8631\n",
      "Epoch 73/100\n",
      "2403/2403 [==============================] - 0s 96us/sample - loss: 2.1195e-04 - accuracy: 0.9999 - f1_score: 0.9989 - val_loss: 0.0582 - val_accuracy: 0.9928 - val_f1_score: 0.8528\n",
      "Epoch 74/100\n",
      "2403/2403 [==============================] - 0s 98us/sample - loss: 2.7030e-04 - accuracy: 0.9999 - f1_score: 0.9987 - val_loss: 0.0576 - val_accuracy: 0.9928 - val_f1_score: 0.8549\n",
      "Epoch 75/100\n",
      "2403/2403 [==============================] - 0s 98us/sample - loss: 2.6226e-04 - accuracy: 0.9999 - f1_score: 0.9986 - val_loss: 0.0614 - val_accuracy: 0.9926 - val_f1_score: 0.8503\n",
      "Epoch 76/100\n",
      "2403/2403 [==============================] - 0s 103us/sample - loss: 2.6399e-04 - accuracy: 0.9999 - f1_score: 0.9982 - val_loss: 0.0576 - val_accuracy: 0.9925 - val_f1_score: 0.8441\n",
      "Epoch 77/100\n",
      "2403/2403 [==============================] - 0s 98us/sample - loss: 1.8175e-04 - accuracy: 1.0000 - f1_score: 0.9991 - val_loss: 0.0586 - val_accuracy: 0.9925 - val_f1_score: 0.8453\n",
      "Epoch 78/100\n",
      "2403/2403 [==============================] - 0s 99us/sample - loss: 1.4948e-04 - accuracy: 1.0000 - f1_score: 0.9991 - val_loss: 0.0580 - val_accuracy: 0.9923 - val_f1_score: 0.8419\n",
      "Epoch 79/100\n",
      "2403/2403 [==============================] - 0s 101us/sample - loss: 2.3770e-04 - accuracy: 0.9999 - f1_score: 0.9989 - val_loss: 0.0590 - val_accuracy: 0.9928 - val_f1_score: 0.8489\n",
      "Epoch 80/100\n",
      "2403/2403 [==============================] - 0s 94us/sample - loss: 2.0927e-04 - accuracy: 0.9999 - f1_score: 0.9983 - val_loss: 0.0621 - val_accuracy: 0.9927 - val_f1_score: 0.8475\n",
      "Epoch 81/100\n",
      "2403/2403 [==============================] - 0s 96us/sample - loss: 1.5539e-04 - accuracy: 1.0000 - f1_score: 0.9991 - val_loss: 0.0592 - val_accuracy: 0.9929 - val_f1_score: 0.8542\n",
      "Epoch 82/100\n",
      "2403/2403 [==============================] - 0s 97us/sample - loss: 1.1457e-04 - accuracy: 1.0000 - f1_score: 0.9995 - val_loss: 0.0617 - val_accuracy: 0.9929 - val_f1_score: 0.8536\n",
      "Epoch 83/100\n",
      "2403/2403 [==============================] - 0s 99us/sample - loss: 1.1248e-04 - accuracy: 1.0000 - f1_score: 0.9995 - val_loss: 0.0655 - val_accuracy: 0.9929 - val_f1_score: 0.8531\n",
      "Epoch 84/100\n",
      "2403/2403 [==============================] - 0s 104us/sample - loss: 1.8316e-04 - accuracy: 0.9999 - f1_score: 0.9989 - val_loss: 0.0654 - val_accuracy: 0.9929 - val_f1_score: 0.8525\n",
      "Epoch 85/100\n",
      "2403/2403 [==============================] - 0s 97us/sample - loss: 2.0202e-04 - accuracy: 0.9999 - f1_score: 0.9987 - val_loss: 0.0640 - val_accuracy: 0.9931 - val_f1_score: 0.8567\n",
      "Epoch 86/100\n",
      "2403/2403 [==============================] - 0s 96us/sample - loss: 1.1727e-04 - accuracy: 1.0000 - f1_score: 0.9991 - val_loss: 0.0624 - val_accuracy: 0.9927 - val_f1_score: 0.8479\n",
      "Epoch 87/100\n",
      "2403/2403 [==============================] - 0s 94us/sample - loss: 1.5990e-04 - accuracy: 0.9999 - f1_score: 0.9987 - val_loss: 0.0632 - val_accuracy: 0.9928 - val_f1_score: 0.8492\n",
      "Epoch 88/100\n",
      "2403/2403 [==============================] - 0s 98us/sample - loss: 1.8669e-04 - accuracy: 0.9999 - f1_score: 0.9985 - val_loss: 0.0619 - val_accuracy: 0.9932 - val_f1_score: 0.8580\n",
      "Epoch 89/100\n",
      "2403/2403 [==============================] - 0s 95us/sample - loss: 7.7101e-05 - accuracy: 1.0000 - f1_score: 0.9998 - val_loss: 0.0652 - val_accuracy: 0.9929 - val_f1_score: 0.8548\n",
      "Epoch 90/100\n",
      "2403/2403 [==============================] - 0s 92us/sample - loss: 1.8749e-04 - accuracy: 0.9999 - f1_score: 0.9987 - val_loss: 0.0720 - val_accuracy: 0.9925 - val_f1_score: 0.8443\n",
      "Epoch 91/100\n",
      "2403/2403 [==============================] - 0s 96us/sample - loss: 3.3298e-04 - accuracy: 0.9999 - f1_score: 0.9971 - val_loss: 0.0617 - val_accuracy: 0.9930 - val_f1_score: 0.8578\n",
      "Epoch 92/100\n",
      "2403/2403 [==============================] - 0s 97us/sample - loss: 1.6575e-04 - accuracy: 0.9999 - f1_score: 0.9989 - val_loss: 0.0591 - val_accuracy: 0.9926 - val_f1_score: 0.8488\n",
      "Epoch 93/100\n",
      "2403/2403 [==============================] - 0s 94us/sample - loss: 1.1959e-04 - accuracy: 1.0000 - f1_score: 0.9991 - val_loss: 0.0599 - val_accuracy: 0.9929 - val_f1_score: 0.8537\n",
      "Epoch 94/100\n",
      "2403/2403 [==============================] - 0s 95us/sample - loss: 1.7396e-04 - accuracy: 0.9999 - f1_score: 0.9986 - val_loss: 0.0642 - val_accuracy: 0.9927 - val_f1_score: 0.8489\n",
      "Epoch 95/100\n",
      "2403/2403 [==============================] - 0s 97us/sample - loss: 2.5787e-04 - accuracy: 0.9999 - f1_score: 0.9984 - val_loss: 0.0646 - val_accuracy: 0.9930 - val_f1_score: 0.8553\n",
      "Epoch 96/100\n",
      "2403/2403 [==============================] - 0s 96us/sample - loss: 4.3455e-04 - accuracy: 0.9999 - f1_score: 0.9980 - val_loss: 0.0658 - val_accuracy: 0.9923 - val_f1_score: 0.8431\n",
      "Epoch 97/100\n",
      "2403/2403 [==============================] - 0s 102us/sample - loss: 3.1819e-04 - accuracy: 0.9999 - f1_score: 0.9974 - val_loss: 0.0669 - val_accuracy: 0.9926 - val_f1_score: 0.8471\n",
      "Epoch 98/100\n",
      "2403/2403 [==============================] - 0s 93us/sample - loss: 2.6707e-04 - accuracy: 0.9999 - f1_score: 0.9982 - val_loss: 0.0688 - val_accuracy: 0.9923 - val_f1_score: 0.8442\n",
      "Epoch 99/100\n",
      "2403/2403 [==============================] - 0s 101us/sample - loss: 1.7054e-04 - accuracy: 0.9999 - f1_score: 0.9988 - val_loss: 0.0693 - val_accuracy: 0.9924 - val_f1_score: 0.8460\n",
      "Epoch 100/100\n",
      "2403/2403 [==============================] - 0s 98us/sample - loss: 1.5178e-04 - accuracy: 0.9999 - f1_score: 0.9987 - val_loss: 0.0668 - val_accuracy: 0.9928 - val_f1_score: 0.8503\n"
     ]
    }
   ],
   "source": [
    "history = model.fit(X_train, y_train, batch_size=32, epochs=100, verbose=1, validation_split=0.1)"
   ]
  },
  {
   "cell_type": "code",
   "execution_count": 20,
   "metadata": {},
   "outputs": [
    {
     "data": {
      "image/png": "[encoded data removed]",
      "text/plain": [
       "<Figure size 432x288 with 1 Axes>"
      ]
     },
     "metadata": {
      "needs_background": "light"
     },
     "output_type": "display_data"
    },
    {
     "data": {
      "image/png": "[encoded data removed]",
      "text/plain": [
       "<Figure size 432x288 with 1 Axes>"
      ]
     },
     "metadata": {
      "needs_background": "light"
     },
     "output_type": "display_data"
    },
    {
     "data": {
      "image/png": "[encoded data removed]",
      "text/plain": [
       "<Figure size 432x288 with 1 Axes>"
      ]
     },
     "metadata": {
      "needs_background": "light"
     },
     "output_type": "display_data"
    }
   ],
   "source": [
    "import matplotlib.pyplot as plt\n",
    "\n",
    "# Plot training & validation f_scores\n",
    "plt.plot(history.history['f1_score'])\n",
    "plt.plot(history.history['val_f1_score'])\n",
    "plt.title('Model f_score')\n",
    "plt.ylabel('f1_score')\n",
    "plt.xlabel('Epoch')\n",
    "plt.legend(['Train', 'Test'], loc='upper left')\n",
    "plt.grid(True)\n",
    "plt.xticks(np.arange(1, 100, 5))\n",
    "plt.show()\n",
    "\n",
    "# Plot training & validation accuracy values\n",
    "plt.plot(history.history['accuracy'])\n",
    "plt.plot(history.history['val_accuracy'])\n",
    "plt.title('Model accuracy')\n",
    "plt.ylabel('Accuracy')\n",
    "plt.xlabel('Epoch')\n",
    "plt.legend(['Train', 'Test'], loc='upper left')\n",
    "plt.grid(True)\n",
    "plt.xticks(np.arange(1, 100, 5))\n",
    "plt.show()\n",
    "\n",
    "# Plot training & validation loss values\n",
    "plt.plot(history.history['loss'])\n",
    "plt.plot(history.history['val_loss'])\n",
    "plt.title('Model loss')\n",
    "plt.ylabel('Loss')\n",
    "plt.xlabel('Epoch')\n",
    "plt.legend(['Train', 'Test'], loc='upper left')\n",
    "plt.grid(True)\n",
    "plt.xticks(np.arange(1, 100, 5))\n",
    "plt.show()"
   ]
  },
  {
   "cell_type": "code",
   "execution_count": 17,
   "metadata": {},
   "outputs": [
    {
     "data": {
      "text/plain": [
       "dict_keys(['loss', 'accuracy', 'f1_score', 'val_loss', 'val_accuracy', 'val_f1_score'])"
      ]
     },
     "execution_count": 17,
     "metadata": {},
     "output_type": "execute_result"
    }
   ],
   "source": [
    "history.history.keys()"
   ]
  },
  {
   "cell_type": "code",
   "execution_count": 21,
   "metadata": {},
   "outputs": [
    {
     "name": "stdout",
     "output_type": "stream",
     "text": [
      "668/1 [========================================================================================================================================================================================================================================================================================================================================================================================================================================================================================================================================================================================================================================================================================================================================================================================================================================================================================================================================================================================================================================================================================================================================================================================================================================================================================================================================================================================================================================================================================================================================================================================================================================================================================================================================================================================================================================================================================================================================================================================================================================================================================================================================================================================================================================================================================================================================================================================================================================================================================================================================================================================================================================================================================================================================================================================================================================================================================================================================================================================================================================================================================================================================================================================================================================================================================================================================================================================================================================================================================================================================================================================================================================================================================================================================================================================================================================================================================================================================================================================================================================================================================================================================================================================================================================================================================================================================================================================================================================================================================================================================================================================================================================================================================================================================================================================================================================================================================================================================================================================================================================================================================================================================================================================================================================================================================================================================================================================================================================================================================================================================================================================================================================================================================================================================================================================================================================================================================================================================================================================================================================================================================================================================================================================================================================================================================================================================================================================================================================================================================================================================================================================================================================================================================================================================================================================================================================================================================================================================================================================================================================================================================================================================================================================================================================================================================================================================================================================================================================================================================================================================================================================================================================================================================================================================================================================================================================================================================================================================================================================================================================================================================================================================================================================================================================================================================================================================================================================================================================================================================================================================================================================================================================================================================================================================================================================================================================================================================================================================================================================================================================================================================================================================================================================================================================================================================================================================================================================================================================================================================================================================================================================================================================================================================================================================================================================================================================================================================================================================================================================================================================================================================================================================================================================================================================================================================================================================================================================================================================================================================================================================================================================================================================================================================================================================================================================================================================================================================================================================================================================================================================================================================================================================================================================================================================================================================================================================================================================================================================================================================================================================================================================================================================================================================================================================================================================================================================================================================================================================================================================================================================================================================================================================================================================================================================================================================================================================================================================================================================================================================================================================================================================================================================================================================================================================================================================================================================================================================================================================================================================================================================================================================================================================================================================================================================================================================================================================================================================================================================================================================================================================================================================================================================================================================================================================================================================================================================================================================================================================================================================================================================================================================================================================================================================================================================================================================================================================================================================================================================================================================================================================================================================================================================================================================================================================================================================================================================================================================================================================================================================================================================================================================================================================================================================================================================================================================================================================================================================================================================================================================================================================================================================================================================================================================================================================================================================================================================================================================================================================================================================================================================================================================================================================================================================================================================================================================================================================================================================================================================================================================================================================================================================================================================================================================================================================================================================================================================================================================================================================================================================================================================================================================================================================================================================================================================================================================================================================================================================================================================================================================================================================================================================================================================================================================================================================================================================================================================================================================================================================================================================================================================================================================================================================================================================================================================================================================================================================================================================================================================================================================================================================================================================================================================================================================================================================================================================================================================================================================================================================================================================================================================================================================================================================================================================================================================================================================================================================================================================================================================================================================================================================================================================================================================================================================================================================================================================================================================================================================================================================================================================================================================================================================================================================================================================================================================================================================================================================================================================================================================================================================================================================================================================================================================================================================================================================================================================================================================================================] - 0s 88us/sample - loss: 0.0551 - accuracy: 0.9919 - f1_score: 0.8302\n",
      "Test Loss: 0.07003270861452925\n",
      "Test Accuracy: 0.9918967\n",
      "Test F1 score: 0.83018565\n"
     ]
    }
   ],
   "source": [
    "score = model.evaluate(X_test, y_test, verbose=0)\n",
    "\n",
    "print(\"Test Loss:\", score[0])\n",
    "print(\"Test Accuracy:\", score[1])\n",
    "print(\"Test F1 score:\", score[2])"
   ]
  },
  {
   "cell_type": "code",
   "execution_count": 23,
   "metadata": {},
   "outputs": [
    {
     "name": "stdout",
     "output_type": "stream",
     "text": [
      "Train on 3338 samples\n",
      "Epoch 1/25\n",
      "3338/3338 [==============================] - 1s 226us/sample - loss: 0.1617 - accuracy: 0.9674 - f1_score: 0.0041\n",
      "Epoch 2/25\n",
      "3338/3338 [==============================] - 0s 85us/sample - loss: 0.0619 - accuracy: 0.9809 - f1_score: 0.3644\n",
      "Epoch 3/25\n",
      "3338/3338 [==============================] - 0s 81us/sample - loss: 0.0354 - accuracy: 0.9891 - f1_score: 0.7328\n",
      "Epoch 4/25\n",
      "3338/3338 [==============================] - 0s 81us/sample - loss: 0.0232 - accuracy: 0.9929 - f1_score: 0.8392\n",
      "Epoch 5/25\n",
      "3338/3338 [==============================] - 0s 83us/sample - loss: 0.0162 - accuracy: 0.9950 - f1_score: 0.8909\n",
      "Epoch 6/25\n",
      "3338/3338 [==============================] - 0s 82us/sample - loss: 0.0118 - accuracy: 0.9963 - f1_score: 0.9210\n",
      "Epoch 7/25\n",
      "3338/3338 [==============================] - 0s 84us/sample - loss: 0.0087 - accuracy: 0.9972 - f1_score: 0.9402\n",
      "Epoch 8/25\n",
      "3338/3338 [==============================] - 0s 83us/sample - loss: 0.0067 - accuracy: 0.9980 - f1_score: 0.9579\n",
      "Epoch 9/25\n",
      "3338/3338 [==============================] - 0s 84us/sample - loss: 0.0055 - accuracy: 0.9983 - f1_score: 0.9648\n",
      "Epoch 10/25\n",
      "3338/3338 [==============================] - 0s 84us/sample - loss: 0.0045 - accuracy: 0.9987 - f1_score: 0.9738\n",
      "Epoch 11/25\n",
      "3338/3338 [==============================] - 0s 84us/sample - loss: 0.0034 - accuracy: 0.9991 - f1_score: 0.9818\n",
      "Epoch 12/25\n",
      "3338/3338 [==============================] - 0s 85us/sample - loss: 0.0029 - accuracy: 0.9992 - f1_score: 0.9841\n",
      "Epoch 13/25\n",
      "3338/3338 [==============================] - 0s 88us/sample - loss: 0.0024 - accuracy: 0.9993 - f1_score: 0.9857\n",
      "Epoch 14/25\n",
      "3338/3338 [==============================] - 0s 83us/sample - loss: 0.0022 - accuracy: 0.9994 - f1_score: 0.9876\n",
      "Epoch 15/25\n",
      "3338/3338 [==============================] - 0s 84us/sample - loss: 0.0020 - accuracy: 0.9995 - f1_score: 0.9891\n",
      "Epoch 16/25\n",
      "3338/3338 [==============================] - 0s 84us/sample - loss: 0.0017 - accuracy: 0.9995 - f1_score: 0.9903\n",
      "Epoch 17/25\n",
      "3338/3338 [==============================] - 0s 82us/sample - loss: 0.0015 - accuracy: 0.9996 - f1_score: 0.9927\n",
      "Epoch 18/25\n",
      "3338/3338 [==============================] - 0s 81us/sample - loss: 0.0013 - accuracy: 0.9997 - f1_score: 0.9932\n",
      "Epoch 19/25\n",
      "3338/3338 [==============================] - 0s 81us/sample - loss: 0.0013 - accuracy: 0.9997 - f1_score: 0.9934\n",
      "Epoch 20/25\n",
      "3338/3338 [==============================] - 0s 80us/sample - loss: 0.0012 - accuracy: 0.9997 - f1_score: 0.9937\n",
      "Epoch 21/25\n",
      "3338/3338 [==============================] - 0s 80us/sample - loss: 9.2613e-04 - accuracy: 0.9997 - f1_score: 0.9947\n",
      "Epoch 22/25\n",
      "3338/3338 [==============================] - 0s 80us/sample - loss: 8.7866e-04 - accuracy: 0.9998 - f1_score: 0.9951\n",
      "Epoch 23/25\n",
      "3338/3338 [==============================] - 0s 79us/sample - loss: 8.1052e-04 - accuracy: 0.9998 - f1_score: 0.9965\n",
      "Epoch 24/25\n",
      "3338/3338 [==============================] - 0s 80us/sample - loss: 6.2068e-04 - accuracy: 0.9999 - f1_score: 0.9972\n",
      "Epoch 25/25\n",
      "3338/3338 [==============================] - 0s 82us/sample - loss: 7.1265e-04 - accuracy: 0.9998 - f1_score: 0.9960\n"
     ]
    }
   ],
   "source": [
    "# build final model\n",
    "# 5000 words because the training set has almost 2500 unique words\n",
    "tokenizer2 = Tokenizer(num_words=5000)\n",
    "tokenizer2.fit_on_texts(X)\n",
    "X_train = tokenizer2.texts_to_matrix(X)\n",
    "y_train = y\n",
    "\n",
    "model2 = Sequential()\n",
    "model2.add(Dense(512, input_shape=(5000,), activation='relu'))\n",
    "model2.add(Dropout(0.3))\n",
    "model2.add(Dense(512, activation='relu'))\n",
    "model2.add(Dropout(0.3))\n",
    "model2.add(Dense(46, activation='sigmoid'))\n",
    "model2.compile(loss='binary_crossentropy',              # categorical_crossentropy, binary_crossentropy f1_loss\n",
    "              optimizer='adam',\n",
    "              metrics=['accuracy', f1_score])\n",
    "\n",
    "history2 = model2.fit(X_train, y_train, batch_size=32, epochs=25, verbose=1)"
   ]
  },
  {
   "cell_type": "code",
   "execution_count": 24,
   "metadata": {},
   "outputs": [],
   "source": [
    "X_t = list(testFile['UTTERANCE'])\n",
    "X_pred = tokenizer2.texts_to_matrix(X_t)"
   ]
  },
  {
   "cell_type": "code",
   "execution_count": 25,
   "metadata": {},
   "outputs": [],
   "source": [
    "y_pred = model2.predict(X_pred)"
   ]
  },
  {
   "cell_type": "code",
   "execution_count": 27,
   "metadata": {},
   "outputs": [],
   "source": [
    "predictions = []\n",
    "for y in y_pred:\n",
    "    temp = ''\n",
    "    for i,v in enumerate(y):\n",
    "        if v > 0.5:\n",
    "            temp += ' ' + unique_relations[i]\n",
    "    if len(temp) < 1: temp = unique_relations[np.argmax(y)]\n",
    "    # if len(temp)>= 2: print(temp)\n",
    "    predictions.append(temp.strip())\n",
    "# predictions"
   ]
  },
  {
   "cell_type": "code",
   "execution_count": 41,
   "metadata": {},
   "outputs": [
    {
     "data": {
      "text/html": [
       "<div>\n",
       "<style scoped>\n",
       "    .dataframe tbody tr th:only-of-type {\n",
       "        vertical-align: middle;\n",
       "    }\n",
       "\n",
       "    .dataframe tbody tr th {\n",
       "        vertical-align: top;\n",
       "    }\n",
       "\n",
       "    .dataframe thead th {\n",
       "        text-align: right;\n",
       "    }\n",
       "</style>\n",
       "<table border=\"1\" class=\"dataframe\">\n",
       "  <thead>\n",
       "    <tr style=\"text-align: right;\">\n",
       "      <th></th>\n",
       "      <th>ID</th>\n",
       "      <th>CORE RELATIONS</th>\n",
       "    </tr>\n",
       "  </thead>\n",
       "  <tbody>\n",
       "    <tr>\n",
       "      <th>0</th>\n",
       "      <td>0</td>\n",
       "      <td>movie.starring.actor</td>\n",
       "    </tr>\n",
       "    <tr>\n",
       "      <th>1</th>\n",
       "      <td>1</td>\n",
       "      <td>movie.starring.actor</td>\n",
       "    </tr>\n",
       "    <tr>\n",
       "      <th>2</th>\n",
       "      <td>2</td>\n",
       "      <td>movie.starring.actor</td>\n",
       "    </tr>\n",
       "    <tr>\n",
       "      <th>3</th>\n",
       "      <td>3</td>\n",
       "      <td>movie.starring.actor</td>\n",
       "    </tr>\n",
       "    <tr>\n",
       "      <th>4</th>\n",
       "      <td>4</td>\n",
       "      <td>movie.starring.actor</td>\n",
       "    </tr>\n",
       "  </tbody>\n",
       "</table>\n",
       "</div>"
      ],
      "text/plain": [
       "   ID        CORE RELATIONS\n",
       "0   0  movie.starring.actor\n",
       "1   1  movie.starring.actor\n",
       "2   2  movie.starring.actor\n",
       "3   3  movie.starring.actor\n",
       "4   4  movie.starring.actor"
      ]
     },
     "execution_count": 41,
     "metadata": {},
     "output_type": "execute_result"
    }
   ],
   "source": [
    "submissionFile = pd.DataFrame({\n",
    "    'ID': [i for i in range(len(predictions))],\n",
    "    'CORE RELATIONS': predictions})\n",
    "path_to_save = os.path.abspath(os.getcwd()) + '/predictions/'\n",
    "submissionFile.to_csv('predictions/prediction11.csv', index = None)\n",
    "submissionFile.head()"
   ]
  },
  {
   "cell_type": "code",
   "execution_count": null,
   "metadata": {},
   "outputs": [],
   "source": []
  },
  {
   "cell_type": "code",
   "execution_count": null,
   "metadata": {},
   "outputs": [],
   "source": []
  },
  {
   "cell_type": "code",
   "execution_count": null,
   "metadata": {},
   "outputs": [],
   "source": []
  }
 ],
 "metadata": {
  "kernelspec": {
   "display_name": "Python 3",
   "language": "python",
   "name": "python3"
  },
  "language_info": {
   "codemirror_mode": {
    "name": "ipython",
    "version": 3
   },
   "file_extension": ".py",
   "mimetype": "text/x-python",
   "name": "python",
   "nbconvert_exporter": "python",
   "pygments_lexer": "ipython3",
   "version": "3.7.3"
  }
 },
 "nbformat": 4,
 "nbformat_minor": 4
}
