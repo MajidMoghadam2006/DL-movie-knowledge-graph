{
 "cells": [
  {
   "cell_type": "code",
   "execution_count": 1,
   "metadata": {},
   "outputs": [
    {
     "name": "stderr",
     "output_type": "stream",
     "text": [
      "/Users/Majid/anaconda3/lib/python3.6/site-packages/h5py/__init__.py:34: FutureWarning: Conversion of the second argument of issubdtype from `float` to `np.floating` is deprecated. In future, it will be treated as `np.float64 == np.dtype(float).type`.\n",
      "  from ._conv import register_converters as _register_converters\n"
     ]
    }
   ],
   "source": [
    "import os\n",
    "import sys\n",
    "import numpy as np\n",
    "import pandas as pd\n",
    "\n",
    "from tensorflow import keras\n",
    "from tensorflow.keras.preprocessing.text import Tokenizer\n",
    "from tensorflow.keras.utils import to_categorical\n",
    "from tensorflow.keras.preprocessing.sequence import pad_sequences\n",
    "from tensorflow.keras.layers import Activation, Conv2D, Input, Embedding, Reshape, MaxPool2D, Concatenate, Flatten, Dropout, Dense, Conv1D\n",
    "from tensorflow.keras.layers import MaxPool1D\n",
    "from tensorflow.keras.models import Model\n",
    "from tensorflow.keras.callbacks import ModelCheckpoint\n",
    "from tensorflow.keras.optimizers import Adam\n",
    "from sklearn.model_selection import train_test_split\n",
    "from tensorflow.keras.models import Sequential\n",
    "import tensorflow.keras.backend as K\n",
    "from sklearn.model_selection import KFold"
   ]
  },
  {
   "cell_type": "code",
   "execution_count": 2,
   "metadata": {
    "collapsed": true
   },
   "outputs": [],
   "source": [
    "# ID    UTTERANCE    CORE RELATIONS\n",
    "trainFile = pd.read_csv('dataset/hw1_train.csv')\n",
    "# ID    UTTERANCE\n",
    "testFile = pd.read_csv('dataset/hw1_test.csv')"
   ]
  },
  {
   "cell_type": "code",
   "execution_count": 3,
   "metadata": {},
   "outputs": [
    {
     "data": {
      "image/png": "[encoded data removed]",
      "text/plain": [
       "<Figure size 432x288 with 1 Axes>"
      ]
     },
     "metadata": {},
     "output_type": "display_data"
    }
   ],
   "source": [
    "unique_relations = {}\n",
    "for relation_str in trainFile['CORE RELATIONS']:\n",
    "    relations = relation_str.split(' ')\n",
    "    for relation in relations:\n",
    "        if relation in unique_relations:\n",
    "            unique_relations[relation] += 1\n",
    "        else:\n",
    "            unique_relations[relation] = 1\n",
    "            \n",
    "import matplotlib.pyplot as plt\n",
    "plt.bar(list(range(len(unique_relations))), unique_relations.values(), 1, color='g')\n",
    "plt.ylabel('label count')\n",
    "plt.xlabel('label number')\n",
    "plt.show()"
   ]
  },
  {
   "cell_type": "code",
   "execution_count": 4,
   "metadata": {
    "collapsed": true
   },
   "outputs": [],
   "source": [
    "# Data preparation\n",
    "\n",
    "# input features\n",
    "X = list(trainFile['UTTERANCE'])\n",
    "\n",
    "unique_relations = []\n",
    "for relation_str in trainFile['CORE RELATIONS']:\n",
    "    relations = relation_str.split(' ')\n",
    "    for relation in relations:\n",
    "        if relation not in unique_relations:\n",
    "            unique_relations.append(relation)\n",
    "\n",
    "unique_nodes = []\n",
    "for path in unique_relations:\n",
    "    nodes = path.split('.')\n",
    "    for node in nodes:\n",
    "        if node not in unique_nodes:\n",
    "            unique_nodes.append(node)\n",
    "\n",
    "# add label columns to dataframe\n",
    "for relation in unique_relations:\n",
    "    trainFile[relation] = 0\n",
    "\n",
    "# fill out label columns\n",
    "for idx, relation_str in enumerate(trainFile['CORE RELATIONS']):\n",
    "    relations = relation_str.split(' ')\n",
    "    for relation in relations:\n",
    "        trainFile.loc[idx,relation] = 1\n",
    "\n",
    "#separate label columns\n",
    "labels = trainFile[unique_relations]\n",
    "\n",
    "# target values\n",
    "y = labels.values\n"
   ]
  },
  {
   "cell_type": "code",
   "execution_count": 5,
   "metadata": {
    "collapsed": true
   },
   "outputs": [],
   "source": [
    "# 5000 words because the training set has almost 2500 unique words\n",
    "tokenizer = Tokenizer(num_words=5000)\n",
    "tokenizer.fit_on_texts(X)\n",
    "X = tokenizer.texts_to_matrix(X)"
   ]
  },
  {
   "cell_type": "code",
   "execution_count": 6,
   "metadata": {
    "collapsed": true
   },
   "outputs": [],
   "source": [
    "def recall_m(y_true, y_pred):\n",
    "        true_positives = K.sum(K.round(K.clip(y_true * y_pred, 0, 1)))\n",
    "        possible_positives = K.sum(K.round(K.clip(y_true, 0, 1)))\n",
    "        recall = true_positives / (possible_positives + K.epsilon())\n",
    "        return recall\n",
    "\n",
    "def precision_m(y_true, y_pred):\n",
    "        true_positives = K.sum(K.round(K.clip(y_true * y_pred, 0, 1)))\n",
    "        predicted_positives = K.sum(K.round(K.clip(y_pred, 0, 1)))\n",
    "        precision = true_positives / (predicted_positives + K.epsilon())\n",
    "        return precision\n",
    "\n",
    "def f1_score(y_true, y_pred):\n",
    "    precision = precision_m(y_true, y_pred)\n",
    "    recall = recall_m(y_true, y_pred)\n",
    "    return 2*((precision*recall)/(precision+recall+K.epsilon()))"
   ]
  },
  {
   "cell_type": "code",
   "execution_count": 7,
   "metadata": {
    "collapsed": true
   },
   "outputs": [],
   "source": [
    "def create_model(hyperParams):\n",
    "    \n",
    "    hidden_layers = hyperParams['hidden_layers']\n",
    "    activation = hyperParams['activation']\n",
    "    dropout = hyperParams['dropout']\n",
    "    output_activation = hyperParams['output_activation']\n",
    "    loss = hyperParams['loss']\n",
    "    \n",
    "    model = Sequential()\n",
    "    model.add(Dense(hidden_layers[0], input_shape=(5000,), activation=activation))\n",
    "    model.add(Dropout(dropout))\n",
    "    for i in range(len(hidden_layers)-1):\n",
    "        model.add(Dense(hidden_layers[i], activation=activation))\n",
    "        model.add(Dropout(dropout))\n",
    "    model.add(Dense(46, activation=output_activation))\n",
    "    model.compile(loss=loss, optimizer='adam', metrics=['accuracy', f1_score])\n",
    "    # categorical_crossentropy, binary_crossentropy f1_loss->(for tensorflow 1.14)\n",
    "    \n",
    "    return model"
   ]
  },
  {
   "cell_type": "code",
   "execution_count": 8,
   "metadata": {
    "collapsed": true
   },
   "outputs": [],
   "source": [
    "def cv_model_fit(X, y, hyperParams):\n",
    "    \n",
    "    kfold = KFold(n_splits=10, shuffle=True)\n",
    "    scores=[]\n",
    "    for train_idx, test_idx in kfold.split(X):\n",
    "        model = create_model(hyperParams)\n",
    "        model.fit(X[train_idx], y[train_idx], batch_size=hyperParams['batch_size'], \n",
    "                   epochs=hyperParams['epochs'], verbose=0)\n",
    "        score = model.evaluate(X[test_idx], y[test_idx], verbose=0)\n",
    "        scores.append(score[2]*100) # f_score\n",
    "        print('fold ', len(scores), '  score: ', scores[-1])\n",
    "        del model\n",
    "        \n",
    "    return scores"
   ]
  },
  {
   "cell_type": "code",
   "execution_count": null,
   "metadata": {},
   "outputs": [],
   "source": [
    "# hyper parameter optimization\n",
    "from itertools import product\n",
    "\n",
    "# default parameter setting:\n",
    "hyperParams = {'batch_size': 32, 'epochs': 25, 'hidden_layers': [512, 512], 'activation': 'relu', 'dropout': 0.3,\n",
    "              'output_activation': 'sigmoid', 'loss': 'binary_crossentropy'}\n",
    "\n",
    "# parameter search space:\n",
    "batch_chices = [8, 16, 32, 64, 128]\n",
    "epochs_choices = [10, 15, 25, 40, 70, 100]\n",
    "hidden_layers_choices = [[512, 512], [128, 128, 128], [256, 256, 256], [512, 512, 512],\n",
    "                         [256, 512, 256], [128, 256, 128], [128, 512, 128], [512, 512, 128],\n",
    "                         [512, 1024, 512], [1024, 512, 512, 256], [1024, 512, 512, 128], [1024, 1024, 1024, 512]]\n",
    "activation_choices = ['relu', 'sigmoid', 'tanh']\n",
    "dropout_choices = [0.3, 0.5, 0.8]\n",
    "\n",
    "s = [batch_chices, epochs_choices, hidden_layers_choices, activation_choices, dropout_choices]\n",
    "perms = list(product(*s))  # permutations\n",
    "\n",
    "# Linear search:\n",
    "best_score = 0\n",
    "for row in perms:\n",
    "    hyperParams['batch_size'] = row[0]\n",
    "    hyperParams['epochs'] = row[1]\n",
    "    hyperParams['hidden_layers'] = row[2]\n",
    "    hyperParams['activation'] = row[3]\n",
    "    hyperParams['dropout'] = row[4]\n",
    "    print('10-fold cross validation on these hyperparameters: ', hyperParams, '\\n')\n",
    "    cvscores = cv_model_fit(X, y, hyperParams)\n",
    "    print('\\n-------------------------------------------')\n",
    "    mean_score = np.mean(cvscores)\n",
    "    std_score = np.std(cvscores)\n",
    "    # Update the best parameter setting:\n",
    "    print('CV mean: {0:0.4f},  CV std: {1:0.4f}'.format(mean_score, std_score))\n",
    "    if  mean_score > best_score:    # later I should incorporate std in best model selection\n",
    "        best_score = mean_score\n",
    "        print('****** Best model so far ******')\n",
    "        best_params = hyperParams\n",
    "    print('-------------------------------------------\\n')"
   ]
  },
  {
   "cell_type": "code",
   "execution_count": null,
   "metadata": {},
   "outputs": [],
   "source": [
    "# build last model from full data using best parameter setting\n",
    "model = create_model(best_params)\n",
    "history = model.fit(X, y, batch_size=best_params['batch_size'], epochs=best_params['epochs'], \n",
    "                    verbose=1)"
   ]
  },
  {
   "cell_type": "code",
   "execution_count": 29,
   "metadata": {
    "collapsed": true
   },
   "outputs": [],
   "source": [
    "# load test data and convert to vector\n",
    "X_t = list(testFile['UTTERANCE'])\n",
    "X_pred = tokenizer.texts_to_matrix(X_t)"
   ]
  },
  {
   "cell_type": "code",
   "execution_count": 30,
   "metadata": {},
   "outputs": [],
   "source": [
    "# generate predictions\n",
    "y_pred = model.predict(X_pred)"
   ]
  },
  {
   "cell_type": "code",
   "execution_count": 31,
   "metadata": {
    "collapsed": true
   },
   "outputs": [],
   "source": [
    "# Tailor predictions and generate string labels\n",
    "predictions = []\n",
    "for y in y_pred:\n",
    "    temp = []\n",
    "    for i,v in enumerate(y):\n",
    "        if v >= 0.5:\n",
    "            temp.append(unique_relations[i])\n",
    "    if len(temp) < 1:   # select max if no prob >= 0.5\n",
    "        temp.append(unique_relations[np.argmax(y)])\n",
    "    if (len(temp) > 1) and ('other' in temp):   # remove 'other' if more than 1 labels\n",
    "        temp.remove('other')\n",
    "    if (len(temp) > 1) and ('NO_REL' in temp):   # remove 'NO_REL' if more than 1 labels\n",
    "        temp.remove('NO_REL')\n",
    "    if (len(temp) > 1) and ('movie_other' in temp):   # remove 'movie_other' if more than 1 labels\n",
    "        temp.remove('movie_other')\n",
    "    predictions.append(' '.join(temp))"
   ]
  },
  {
   "cell_type": "code",
   "execution_count": 32,
   "metadata": {},
   "outputs": [
    {
     "data": {
      "text/html": [
       "<div>\n",
       "<style>\n",
       "    .dataframe thead tr:only-child th {\n",
       "        text-align: right;\n",
       "    }\n",
       "\n",
       "    .dataframe thead th {\n",
       "        text-align: left;\n",
       "    }\n",
       "\n",
       "    .dataframe tbody tr th {\n",
       "        vertical-align: top;\n",
       "    }\n",
       "</style>\n",
       "<table border=\"1\" class=\"dataframe\">\n",
       "  <thead>\n",
       "    <tr style=\"text-align: right;\">\n",
       "      <th></th>\n",
       "      <th>CORE RELATIONS</th>\n",
       "      <th>ID</th>\n",
       "    </tr>\n",
       "  </thead>\n",
       "  <tbody>\n",
       "    <tr>\n",
       "      <th>0</th>\n",
       "      <td>movie.starring.actor</td>\n",
       "      <td>0</td>\n",
       "    </tr>\n",
       "    <tr>\n",
       "      <th>1</th>\n",
       "      <td>movie.starring.actor</td>\n",
       "      <td>1</td>\n",
       "    </tr>\n",
       "    <tr>\n",
       "      <th>2</th>\n",
       "      <td>movie.starring.actor</td>\n",
       "      <td>2</td>\n",
       "    </tr>\n",
       "    <tr>\n",
       "      <th>3</th>\n",
       "      <td>movie.starring.actor</td>\n",
       "      <td>3</td>\n",
       "    </tr>\n",
       "    <tr>\n",
       "      <th>4</th>\n",
       "      <td>movie.starring.actor</td>\n",
       "      <td>4</td>\n",
       "    </tr>\n",
       "  </tbody>\n",
       "</table>\n",
       "</div>"
      ],
      "text/plain": [
       "         CORE RELATIONS  ID\n",
       "0  movie.starring.actor   0\n",
       "1  movie.starring.actor   1\n",
       "2  movie.starring.actor   2\n",
       "3  movie.starring.actor   3\n",
       "4  movie.starring.actor   4"
      ]
     },
     "execution_count": 32,
     "metadata": {},
     "output_type": "execute_result"
    }
   ],
   "source": [
    "# Save submision file\n",
    "submissionFile = pd.DataFrame({\n",
    "    'ID': [i for i in range(len(predictions))],\n",
    "    'CORE RELATIONS': predictions})\n",
    "path_to_save = os.path.abspath(os.getcwd()) + '/predictions/'\n",
    "submissionFile.to_csv('predictions/predictions.csv', index = None)\n",
    "submissionFile.head()"
   ]
  },
  {
   "cell_type": "code",
   "execution_count": null,
   "metadata": {
    "collapsed": true
   },
   "outputs": [],
   "source": []
  }
 ],
 "metadata": {
  "kernelspec": {
   "display_name": "Python 3",
   "language": "python",
   "name": "python3"
  },
  "language_info": {
   "codemirror_mode": {
    "name": "ipython",
    "version": 3
   },
   "file_extension": ".py",
   "mimetype": "text/x-python",
   "name": "python",
   "nbconvert_exporter": "python",
   "pygments_lexer": "ipython3",
   "version": "3.6.2"
  }
 },
 "nbformat": 4,
 "nbformat_minor": 4
}
